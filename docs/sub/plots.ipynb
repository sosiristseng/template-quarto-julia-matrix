{
 "cells": [
  {
   "attachments": {},
   "cell_type": "markdown",
   "id": "6a2385e8-96d9-4683-ade2-3cf50cb3ac6a",
   "metadata": {},
   "source": [
    "# Plots.jl"
   ]
  },
  {
   "cell_type": "code",
   "execution_count": null,
   "id": "345e0bd6-cfe1-42fc-8361-2fb977d8d0b3",
   "metadata": {
    "execution": {
     "iopub.execute_input": "2022-02-22T13:51:51.177000Z",
     "iopub.status.busy": "2022-02-22T13:51:50.611000Z",
     "iopub.status.idle": "2022-02-22T13:52:06.112000Z",
     "shell.execute_reply": "2022-02-22T13:52:06.078000Z"
    }
   },
   "outputs": [],
   "source": [
    "using Plots\n",
    "using Random\n",
    "Random.seed!(2023)\n"
   ]
  },
  {
   "cell_type": "code",
   "execution_count": null,
   "id": "ffc799f2",
   "metadata": {},
   "outputs": [],
   "source": [
    "plot(rand(1:6, 5))\n"
   ]
  },
  {
   "cell_type": "code",
   "execution_count": null,
   "id": "e06ab170",
   "metadata": {},
   "outputs": [],
   "source": [
    "versioninfo()\n"
   ]
  },
  {
   "cell_type": "code",
   "execution_count": null,
   "id": "571c86c5",
   "metadata": {},
   "outputs": [],
   "source": [
    "import Pkg\n",
    "Pkg.status()\n"
   ]
  }
 ],
 "metadata": {
  "kernelspec": {
   "display_name": "Julia 1.9.3",
   "language": "julia",
   "name": "julia-1.9"
  },
  "language_info": {
   "file_extension": ".jl",
   "mimetype": "application/julia",
   "name": "julia",
   "version": "1.9.3"
  }
 },
 "nbformat": 4,
 "nbformat_minor": 5
}
